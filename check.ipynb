{
 "cells": [
  {
   "cell_type": "code",
   "execution_count": 9,
   "metadata": {},
   "outputs": [
    {
     "name": "stdout",
     "output_type": "stream",
     "text": [
      "3967\n",
      "4720\n",
      "['SELECT DISTINCT t3.year FROM paperkeyphrase AS t2 JOIN keyphrase AS t5 ON t2.keyphraseid  =  t5.keyphraseid JOIN paper AS t3 ON t3.paperid  =  t2.paperid JOIN writes AS t4 ON t4.paperid  =  t3.paperid JOIN author AS t1 ON t4.authorid  =  t1.authorid WHERE t1.authorname  =  \"迈克尔·斯通布雷克\" AND t5.keyphrasename  =  \"GIS数据\";', 'SELECT state_name FROM mountain WHERE mountain_altitude  =  ( SELECT MAX ( mountain_altitude ) FROM mountain );', 'SELECT DISTINCT t3.paperid  ,  t3.year FROM writes AS t2 JOIN author AS t1 ON t2.authorid  =  t1.authorid JOIN paper AS t3 ON t2.paperid  =  t3.paperid WHERE t1.authorname  =  \"杰米·卡兰\" ORDER BY t3.year;', 'SELECT city_name FROM city WHERE population  >  150000 AND state_name  =  ( SELECT state_name FROM state WHERE area  =  ( SELECT MAX ( area ) FROM state ) );', 'SELECT COUNT ( city_name ) FROM city WHERE population  >  150000 AND state_name  =  \"四川\";', 'SELECT text FROM review WHERE rating  <  1;', 'SELECT DISTINCT COUNT ( t3.paperid )  ,  t2.authorid FROM writes AS t2 JOIN author AS t1 ON t2.authorid  =  t1.authorid JOIN paper AS t3 ON t2.paperid  =  t3.paperid WHERE t1.authorname  =  \"米蕾拉·拉帕塔\" AND t3.year  =  2016 GROUP BY t2.authorid;', 'SELECT DISTINCT t3.citedpaperid  ,  COUNT ( t3.citingpaperid ) FROM paper AS t1 JOIN cite AS t3 ON t1.paperid  =  t3.citedpaperid JOIN venue AS t2 ON t2.venueid  =  t1.venueid WHERE t1.year  =  2016 AND t2.venuename  =  \"CVPR\" GROUP BY t3.citedpaperid ORDER BY COUNT ( t3.citingpaperid ) DESC;', 'SELECT t2.birth_city FROM director AS t2 JOIN directed_by AS t1 ON t2.did  =  t1.did JOIN movie AS t3 ON t3.mid  =  t1.msid WHERE t3.title  =  \"钢的琴\";', 'SELECT t1.name FROM category AS t2 JOIN business AS t1 ON t2.business_id  =  t1.business_id WHERE t1.rating  >  3.5 AND t2.category_name  =  \"餐馆\";']\n",
      "True\n",
      "JSON files do not have equal contents.\n",
      "64\n"
     ]
    }
   ],
   "source": [
    "import json\n",
    "\n",
    "def are_json_files_equal(file1_path, file2_path):\n",
    "    # Read JSON contents from the files\n",
    "    with open(file1_path, 'r') as file1:\n",
    "        json_data1 = file1.read()\n",
    "\n",
    "    with open(file2_path, 'r') as file2:\n",
    "        json_data2 = file2.read()\n",
    "\n",
    "    # Parse JSON data into dictionaries\n",
    "    try:\n",
    "        dict1 = json.loads(json_data1)\n",
    "        dict2 = json.loads(json_data2)\n",
    "    except json.JSONDecodeError:\n",
    "        return False\n",
    "\n",
    "    # Compare dictionaries\n",
    "    return dict1 == dict2\n",
    "\n",
    "\n",
    "def are_json_files_contain_equal_set(file1_path, file2_path):\n",
    "    with open(file1_path, 'r') as file1:\n",
    "        json_data1 = file1.read()\n",
    "\n",
    "    with open(file2_path, 'r') as file2:\n",
    "        json_data2 = file2.read()\n",
    "\n",
    "    # Parse JSON data into dictionaries\n",
    "    try:\n",
    "        dict1 = json.loads(json_data1)\n",
    "        dict2 = json.loads(json_data2)\n",
    "    except json.JSONDecodeError:\n",
    "        return False\n",
    "\n",
    "    # Compare dictionaries\n",
    "\n",
    "    data_set1 = set()\n",
    "    data_set2 = set()\n",
    "\n",
    "    for data in dict1:\n",
    "        data_set1.add(data[\"query\"])\n",
    "    \n",
    "    for data in dict2:\n",
    "        data_set2.add(data[\"query\"])\n",
    "    # Compare sets \n",
    "\n",
    "    print(len(data_set1))\n",
    "    print(len(data_set2))\n",
    "\n",
    "    set2_contains_set1 = data_set1.issubset(data_set2)\n",
    "    \n",
    "    difference = data_set2.difference(data_set1)\n",
    "\n",
    "    difference_10 = list(difference)[:10]\n",
    "    print(difference_10)\n",
    "    print(set2_contains_set1)\n",
    "\n",
    "    return data_set1 == data_set2\n",
    "\n",
    "def check_overlap_till_when(file1_path, file2_path):\n",
    "    with open(file1_path, 'r') as file1:\n",
    "        json_data1 = file1.read()\n",
    "\n",
    "    with open(file2_path, 'r') as file2:\n",
    "        json_data2 = file2.read()\n",
    "\n",
    "    # Parse JSON data into dictionaries\n",
    "    try:\n",
    "        dict1 = json.loads(json_data1)\n",
    "        dict2 = json.loads(json_data2)\n",
    "    except json.JSONDecodeError:\n",
    "        return False\n",
    "\n",
    "    # Compare list, by enumerating each element\n",
    "    query1 = []\n",
    "    for i, data in enumerate(dict1):\n",
    "        query1.append(data[\"query\"])\n",
    "    \n",
    "    query2 = []\n",
    "    for i, data in enumerate(dict2):\n",
    "        query2.append(data[\"query\"])\n",
    "    \n",
    "    # Sort query1 and query2 \n",
    "    query1.sort()\n",
    "    query2.sort()\n",
    "\n",
    "    # Find the index where query1 and query2 are different\n",
    "    for i in range(len(query1)):\n",
    "        if query1[i] != query2[i]:\n",
    "            print(i)\n",
    "            break\n",
    "\n",
    "# Paths to the JSON files\n",
    "file1_path = '/home/deokhk/research/ZX-seq2seq/data/CSpider/train_cspider.json'\n",
    "file2_path = '/home/deokhk/research/ZX-seq2seq/dataset/CSpider/train.json'\n",
    "\n",
    "# Check if JSON files have equal contents\n",
    "if are_json_files_contain_equal_set(file1_path, file2_path):\n",
    "    print(\"JSON files have equal contents.\")\n",
    "else:\n",
    "    print(\"JSON files do not have equal contents.\")\n",
    "\n",
    "check_overlap_till_when(file1_path, file2_path)\n"
   ]
  },
  {
   "cell_type": "markdown",
   "metadata": {},
   "source": [
    "# Slice the training dataset"
   ]
  },
  {
   "cell_type": "code",
   "execution_count": null,
   "metadata": {},
   "outputs": [],
   "source": [
    "# Slice the training dataset, in order to debug real quick \n",
    "import json \n",
    "\n",
    "sp_orig_path = \"/home/deokhk/research/ZX-seq2seq/data/preprocessed_data/train_spider_seq2seq.json\"\n",
    "\n",
    "with open(sp_orig_path, 'r') as f:\n",
    "    sp_orig = json.load(f)\n",
    "\n",
    "\n",
    "sp_orig_sliced = sp_orig[:200]\n",
    "\n",
    "sp_orig_sliced_save_path = \"/home/deokhk/research/ZX-seq2seq/data/preprocessed_data/train_spider_sample.json\"\n",
    "with open(sp_orig_sliced_save_path, 'w') as f:\n",
    "    json.dump(sp_orig_sliced)\n"
   ]
  },
  {
   "cell_type": "markdown",
   "metadata": {},
   "source": [
    "# Convert OPUS training dataste "
   ]
  },
  {
   "cell_type": "code",
   "execution_count": 2,
   "metadata": {},
   "outputs": [
    {
     "name": "stderr",
     "output_type": "stream",
     "text": [
      "/home/deokhk/miniconda3/envs/ZX/lib/python3.8/site-packages/tqdm/auto.py:22: TqdmWarning: IProgress not found. Please update jupyter and ipywidgets. See https://ipywidgets.readthedocs.io/en/stable/user_install.html\n",
      "  from .autonotebook import tqdm as notebook_tqdm\n",
      "Downloading builder script: 100%|██████████| 7.25k/7.25k [00:00<00:00, 16.7MB/s]\n",
      "Downloading metadata: 100%|██████████| 192k/192k [00:00<00:00, 8.15MB/s]\n",
      "Downloading readme: 100%|██████████| 46.7k/46.7k [00:00<00:00, 8.01MB/s]\n",
      "Downloading data: 100%|██████████| 83.3M/83.3M [00:16<00:00, 5.02MB/s]\n",
      "Generating test split: 100%|██████████| 2000/2000 [00:00<00:00, 6084.79 examples/s]\n",
      "Generating train split: 100%|██████████| 1000000/1000000 [00:12<00:00, 82127.14 examples/s]\n",
      "Generating validation split: 100%|██████████| 2000/2000 [00:00<00:00, 3058.76 examples/s]\n"
     ]
    }
   ],
   "source": [
    "from datasets import load_dataset\n",
    "\n",
    "dataset = load_dataset(\"opus100\", \"en-zh\")\n"
   ]
  },
  {
   "cell_type": "code",
   "execution_count": 5,
   "metadata": {},
   "outputs": [
    {
     "name": "stdout",
     "output_type": "stream",
     "text": [
      "{'en': 'Sixty-first session', 'zh': '第六十一届会议'}\n"
     ]
    }
   ],
   "source": [
    "train = dataset[\"train\"]\n",
    "\n",
    "for row in train:\n",
    "    print(row[\"translation\"])\n",
    "    break"
   ]
  },
  {
   "cell_type": "code",
   "execution_count": 6,
   "metadata": {},
   "outputs": [
    {
     "name": "stderr",
     "output_type": "stream",
     "text": [
      "Downloading builder script: 100%|██████████| 5.58k/5.58k [00:00<00:00, 29.1MB/s]\n",
      "Downloading metadata: 100%|██████████| 2.78k/2.78k [00:00<00:00, 24.2MB/s]\n",
      "Downloading readme: 100%|██████████| 17.1k/17.1k [00:00<00:00, 44.9MB/s]\n",
      "Downloading data: 100%|██████████| 188M/188M [00:08<00:00, 21.9MB/s] \n",
      "Generating train split: 100%|██████████| 120761/120761 [00:55<00:00, 2182.25 examples/s]\n",
      "Generating validation split: 100%|██████████| 7700/7700 [00:03<00:00, 2135.38 examples/s]\n",
      "Generating test split: 100%|██████████| 7700/7700 [00:03<00:00, 2120.89 examples/s]\n"
     ]
    }
   ],
   "source": [
    "\n",
    "totto_dataset = load_dataset(\"totto\")\n"
   ]
  },
  {
   "cell_type": "code",
   "execution_count": 9,
   "metadata": {},
   "outputs": [
    {
     "data": {
      "text/plain": [
       "Dataset({\n",
       "    features: ['id', 'table_page_title', 'table_webpage_url', 'table_section_title', 'table_section_text', 'table', 'highlighted_cells', 'example_id', 'sentence_annotations', 'overlap_subset'],\n",
       "    num_rows: 120761\n",
       "})"
      ]
     },
     "execution_count": 9,
     "metadata": {},
     "output_type": "execute_result"
    }
   ],
   "source": [
    "totto_train = totto_dataset[\"train\"]\n",
    "totto_train"
   ]
  },
  {
   "cell_type": "code",
   "execution_count": 10,
   "metadata": {},
   "outputs": [],
   "source": [
    "example = totto_train[0]"
   ]
  },
  {
   "cell_type": "code",
   "execution_count": 11,
   "metadata": {},
   "outputs": [
    {
     "data": {
      "text/plain": [
       "('A Favorita is the telenovela aired in the 9 pm timeslot.', [[13, 2]])"
      ]
     },
     "execution_count": 11,
     "metadata": {},
     "output_type": "execute_result"
    }
   ],
   "source": [
    "sentence = example[\"sentence_annotations\"][\"final_sentence\"][0]\n",
    "highlighted_cells = example[\"highlighted_cells\"]\n",
    "\n",
    "sentence, highlighted_cells"
   ]
  },
  {
   "cell_type": "code",
   "execution_count": 15,
   "metadata": {},
   "outputs": [
    {
     "name": "stdout",
     "output_type": "stream",
     "text": [
      "6258\n",
      "120761\n"
     ]
    }
   ],
   "source": [
    "# Check if the first row always contain header \n",
    "# Found that first row does not always contain header\n",
    "# Now, check if a table always has header\n",
    "count = 0 \n",
    "for example in totto_train:\n",
    "    is_header_satisfied = False\n",
    "    for row in example[\"table\"]:\n",
    "        for cell in row:\n",
    "            if cell[\"is_header\"] == True:\n",
    "                is_header_satisfied = True\n",
    "                break\n",
    "    if is_header_satisfied == False:\n",
    "        count +=1\n",
    "\n",
    "print(count)\n",
    "print(len(totto_train))"
   ]
  },
  {
   "cell_type": "code",
   "execution_count": 17,
   "metadata": {},
   "outputs": [
    {
     "name": "stdout",
     "output_type": "stream",
     "text": [
      "7978\n",
      "120761\n"
     ]
    }
   ],
   "source": [
    "# Check if the first row always contain header \n",
    "# Found that first row does not always contain header\n",
    "# Now, check if a table always has header\n",
    "count = 0 \n",
    "for example in totto_train:\n",
    "    is_header_satisfied = False\n",
    "    first_row = example[\"table\"][0]\n",
    "    for cell in first_row:\n",
    "        if cell[\"is_header\"] == True:\n",
    "            is_header_satisfied = True\n",
    "            break\n",
    "    if is_header_satisfied == False:\n",
    "        count +=1\n",
    "\n",
    "print(count)\n",
    "print(len(totto_train))"
   ]
  },
  {
   "cell_type": "code",
   "execution_count": null,
   "metadata": {},
   "outputs": [],
   "source": [
    "example = totto_train[0]"
   ]
  },
  {
   "cell_type": "code",
   "execution_count": 21,
   "metadata": {},
   "outputs": [],
   "source": [
    "# Construct table schema, in a way that is similar to Spider dataset\n",
    "# Required information: table_name_original, column name \n",
    "\n",
    "table_name_original = example[\"table_page_title\"] + \" \" + example[\"table_section_title\"]\n",
    "# Gather all column's original names \n",
    "sentence = example[\"sentence_annotations\"][\"final_sentence\"][0]\n",
    "\n",
    "column_names_original = []\n",
    "for cell in example[\"table\"][0]:\n",
    "    is_header = cell[\"is_header\"]\n",
    "    value = cell[\"value\"]\n",
    "    if is_header == True:\n",
    "        column_names_original.append(value)\n",
    "\n",
    "if len(column_names_original) != len(example[\"table\"][0]):\n",
    "    # ignore this example \n",
    "    pass \n",
    "\n",
    "schema_sequence = sentence +\" | \" + table_name_original + \" : \"\n",
    "column_info_list = []\n",
    "\n",
    "for column_name_original in column_names_original:\n",
    "    column_info = table_name_original + \".\" + column_name_original\n",
    "    column_info_list.append(column_info)\n",
    "\n",
    "schema_sequence += \" , \".join(column_info_list)\n",
    "while \"  \" in schema_sequence:\n",
    "    schema_sequence = schema_sequence.replace(\"  \", \" \")"
   ]
  },
  {
   "cell_type": "code",
   "execution_count": 22,
   "metadata": {},
   "outputs": [
    {
     "data": {
      "text/plain": [
       "\"Lacourt was dropped to a fourth-place time in 53.08. | Swimming at the 2012 Summer Olympics – Men's 100 metre backstroke Final : Swimming at the 2012 Summer Olympics – Men's 100 metre backstroke Final.Rank , Swimming at the 2012 Summer Olympics – Men's 100 metre backstroke Final.Lane , Swimming at the 2012 Summer Olympics – Men's 100 metre backstroke Final.Name , Swimming at the 2012 Summer Olympics – Men's 100 metre backstroke Final.Nationality , Swimming at the 2012 Summer Olympics – Men's 100 metre backstroke Final.Time , Swimming at the 2012 Summer Olympics – Men's 100 metre backstroke Final.Notes\""
      ]
     },
     "execution_count": 22,
     "metadata": {},
     "output_type": "execute_result"
    }
   ],
   "source": [
    "schema_sequence"
   ]
  },
  {
   "cell_type": "code",
   "execution_count": 26,
   "metadata": {},
   "outputs": [
    {
     "name": "stdout",
     "output_type": "stream",
     "text": [
      "Lacourt was dropped to a fourth-place time in 53.08. | Swimming at the 2012 Summer Olympics – Men's 100 metre backstroke Final : Swimming at the 2012 Summer Olympics – Men's 100 metre backstroke Final.Rank , Swimming at the 2012 Summer Olympics – Men's 100 metre backstroke Final.Lane , Swimming at the 2012 Summer Olympics – Men's 100 metre backstroke Final.Name , Swimming at the 2012 Summer Olympics – Men's 100 metre backstroke Final.Nationality , Swimming at the 2012 Summer Olympics – Men's 100 metre backstroke Final.Time , Swimming at the 2012 Summer Olympics – Men's 100 metre backstroke Final.Notes\n",
      "<table> Swimming at the 2012 Summer Olympics – Men's 100 metre backstroke Final <column> Rank, Name, Time\n",
      "<value> 4, Camille Lacourt, 53.08\n"
     ]
    }
   ],
   "source": [
    "# Now, the output sequence\n",
    "mentioned_values = []\n",
    "mentioned_column_original_names = []\n",
    "\n",
    "highlighted_cell_indices = example[\"highlighted_cells\"]\n",
    "\n",
    "# Since this is a single table example, we can assume that all highlighted cells are from the same table\n",
    "# Find the table name\n",
    "table_name = example[\"table_page_title\"] + \" \" + example[\"table_section_title\"]\n",
    "\n",
    "# Find the highlighted column names\n",
    "highlighted_column_names = []\n",
    "for cell_index in highlighted_cell_indices:\n",
    "    mentioned_column_index = cell_index[1]\n",
    "    mentioned_column_original_names.append(column_names_original[mentioned_column_index])\n",
    "\n",
    "    highlighted_cell = example[\"table\"][cell_index[0]][cell_index[1]]\n",
    "    mentioned_values.append(highlighted_cell[\"value\"])\n",
    "\n",
    "# Construct the output sequence\n",
    "\n",
    "# schema prediction task \n",
    "o_t = table_name\n",
    "o_c = \"\"\n",
    "if len(mentioned_column_original_names) != 0:\n",
    "    o_c = \", \".join(mentioned_column_original_names)\n",
    "else:   \n",
    "    o_c = \"<none>\"\n",
    "\n",
    "sp_output = \"<table>\" +  \" \" + o_t + \" \" + \"<column>\" + \" \" + o_c\n",
    "\n",
    "# value prediction task\n",
    "o_v = \"\"\n",
    "if len(mentioned_values) != 0:\n",
    "    o_v = \", \".join(mentioned_values)\n",
    "else:\n",
    "    o_v = \"<none>\"\n",
    "\n",
    "vp_output = \"<value>\" + \" \" + o_v\n",
    "\n",
    "print(schema_sequence)\n",
    "print(sp_output)\n",
    "print(vp_output)"
   ]
  },
  {
   "cell_type": "markdown",
   "metadata": {},
   "source": [
    "# Examples proportional sampling dataset"
   ]
  },
  {
   "cell_type": "code",
   "execution_count": 1,
   "metadata": {},
   "outputs": [
    {
     "name": "stderr",
     "output_type": "stream",
     "text": [
      "/home/deokhk/miniconda3/envs/ZX/lib/python3.8/site-packages/tqdm/auto.py:22: TqdmWarning: IProgress not found. Please update jupyter and ipywidgets. See https://ipywidgets.readthedocs.io/en/stable/user_install.html\n",
      "  from .autonotebook import tqdm as notebook_tqdm\n"
     ]
    }
   ],
   "source": [
    "import datasets \n",
    "import json \n",
    "\n",
    "mt_path = \"/home/deokhk/research/ZX-seq2seq/data/multitask_ft/translation_train.json\"\n",
    "sp_path = \"/home/deokhk/research/ZX-seq2seq/data/multitask_ft/schema_prediction_train.json\"\n",
    "vp_path = \"/home/deokhk/research/ZX-seq2seq/data/multitask_ft/value_prediction_train.json\"\n",
    "\n",
    "with open(mt_path, 'r') as f:\n",
    "    mt_raw = json.load(f)\n",
    "with open(sp_path, 'r') as f:\n",
    "    sp_raw = json.load(f)\n",
    "with open(vp_path, 'r') as f:\n",
    "    vp_raw = json.load(f)\n"
   ]
  },
  {
   "cell_type": "code",
   "execution_count": 23,
   "metadata": {},
   "outputs": [
    {
     "name": "stdout",
     "output_type": "stream",
     "text": [
      "2000000 90456 90456\n",
      "[0.7434600113442995, 0.12826999432785025, 0.12826999432785025]\n"
     ]
    }
   ],
   "source": [
    "# calculate proportion \n",
    "mt_count = len(mt_raw)\n",
    "sp_count = len(sp_raw)\n",
    "vp_count = len(vp_raw)\n",
    "K = pow(2, 19)\n",
    "print(mt_count, sp_count, vp_count)\n",
    "scaled_counts = [min(mt_count, K), min(sp_count, K), min(vp_count, K)]\n",
    "\n",
    "proportion = [count/sum(scaled_counts) for count in scaled_counts]\n",
    "print(proportion)"
   ]
  },
  {
   "cell_type": "code",
   "execution_count": 24,
   "metadata": {},
   "outputs": [
    {
     "name": "stderr",
     "output_type": "stream",
     "text": [
      "Downloading data files: 100%|██████████| 1/1 [00:00<00:00, 7516.67it/s]\n",
      "Extracting data files: 100%|██████████| 1/1 [00:00<00:00, 1185.17it/s]\n",
      "Generating train split: 2000000 examples [00:10, 194642.96 examples/s]\n",
      "Downloading data files: 100%|██████████| 1/1 [00:00<00:00, 10155.70it/s]\n",
      "Extracting data files: 100%|██████████| 1/1 [00:00<00:00, 1993.49it/s]\n",
      "Generating train split: 90456 examples [00:01, 67411.85 examples/s]\n",
      "Downloading data files: 100%|██████████| 1/1 [00:00<00:00, 11949.58it/s]\n",
      "Extracting data files: 100%|██████████| 1/1 [00:00<00:00, 1659.14it/s]\n",
      "Generating train split: 90456 examples [00:00, 99740.49 examples/s] \n"
     ]
    }
   ],
   "source": [
    "from datasets import Dataset, interleave_datasets\n",
    "mt_dataset = Dataset.from_json(mt_path)\n",
    "sp_dataset = Dataset.from_json(sp_path)\n",
    "vp_dataset = Dataset.from_json(vp_path)\n"
   ]
  },
  {
   "cell_type": "code",
   "execution_count": 29,
   "metadata": {},
   "outputs": [
    {
     "data": {
      "text/plain": [
       "{'mentioned_schema_items': {'column_names': ['Title'],\n",
       "  'table_name': 'List of 8/9 PM telenovelas of Rede Globo'},\n",
       " 'output_sequence': '<table> List of 8/9 PM telenovelas of Rede Globo <column> Title',\n",
       " 'input_sequence': 'List schema items mentioned in the utterance: A Favorita is the telenovela aired in the 9 pm timeslot. | List of 8/9 PM telenovelas of Rede Globo : List of 8/9 PM telenovelas of Rede Globo.# , List of 8/9 PM telenovelas of Rede Globo.Run , List of 8/9 PM telenovelas of Rede Globo.Title , List of 8/9 PM telenovelas of Rede Globo.Chapters , List of 8/9 PM telenovelas of Rede Globo.Author , List of 8/9 PM telenovelas of Rede Globo.Director , List of 8/9 PM telenovelas of Rede Globo.Ibope Rating'}"
      ]
     },
     "execution_count": 29,
     "metadata": {},
     "output_type": "execute_result"
    }
   ],
   "source": [
    "sp_dataset[0]"
   ]
  },
  {
   "cell_type": "code",
   "execution_count": 31,
   "metadata": {},
   "outputs": [
    {
     "data": {
      "text/plain": [
       "[0.7434600113442995, 0.12826999432785025, 0.12826999432785025]"
      ]
     },
     "execution_count": 31,
     "metadata": {},
     "output_type": "execute_result"
    }
   ],
   "source": [
    "proportion"
   ]
  },
  {
   "cell_type": "code",
   "execution_count": 37,
   "metadata": {},
   "outputs": [],
   "source": [
    "dataset = interleave_datasets([mt_dataset, sp_dataset, vp_dataset], probabilities=proportion)"
   ]
  },
  {
   "cell_type": "code",
   "execution_count": 39,
   "metadata": {},
   "outputs": [],
   "source": [
    "dataset = dataset.remove_columns([\"mentioned_schema_items\", \"mentioned_values\"])"
   ]
  },
  {
   "cell_type": "code",
   "execution_count": 43,
   "metadata": {},
   "outputs": [
    {
     "data": {
      "text/plain": [
       "{'output_sequence': '<table> List of mayors of Pavia <column> Term start, Mayor, Party, Term end',\n",
       " 'input_sequence': 'List schema items mentioned in the utterance: The current Mayor of Pavia is Massimo Depaoli, a member of the Democratic Party, who took office on 10 June 2014. | List of mayors of Pavia : List of mayors of Pavia. , List of mayors of Pavia.Mayor , List of mayors of Pavia.Term start , List of mayors of Pavia.Term end , List of mayors of Pavia.Party'}"
      ]
     },
     "execution_count": 43,
     "metadata": {},
     "output_type": "execute_result"
    }
   ],
   "source": [
    "dataset[24434]"
   ]
  },
  {
   "cell_type": "code",
   "execution_count": 4,
   "metadata": {},
   "outputs": [
    {
     "data": {
      "text/plain": [
       "124"
      ]
     },
     "execution_count": 4,
     "metadata": {},
     "output_type": "execute_result"
    }
   ],
   "source": [
    "a = 0\n",
    "while a < 20:\n",
    "    for i in range(124):\n",
    "        a +=1 \n",
    "a"
   ]
  },
  {
   "cell_type": "code",
   "execution_count": 8,
   "metadata": {},
   "outputs": [],
   "source": [
    "# Maybe I need to extract such labels..\n",
    "output_seq = \"<table> David Brown Speedback <column> Power, Engine\"\n",
    "table_label = output_seq.split(\"<table>\")[1].split(\"<column>\")[0].split(\",\")\n",
    "table_label = [x.strip() for x in table_label if x != \"\"]\n",
    "\n",
    "column_labels = output_seq.split(\"<column>\")[1].split(\",\")\n",
    "column_labels = [x.strip() for x in column_labels if x != \"\"]"
   ]
  },
  {
   "cell_type": "code",
   "execution_count": 9,
   "metadata": {},
   "outputs": [
    {
     "data": {
      "text/plain": [
       "(['David Brown Speedback'], ['Power', 'Engine'])"
      ]
     },
     "execution_count": 9,
     "metadata": {},
     "output_type": "execute_result"
    }
   ],
   "source": [
    "table_label , column_labels"
   ]
  },
  {
   "cell_type": "code",
   "execution_count": null,
   "metadata": {},
   "outputs": [],
   "source": [
    "from datasets import load_metric \n",
    "\n",
    "metric = load_metric(\"exact_match\")\n",
    "\n",
    "# F1 score for schema prediction task\n",
    "metric.compute(predictions=table_label, references=column_labels)"
   ]
  },
  {
   "cell_type": "code",
   "execution_count": 15,
   "metadata": {},
   "outputs": [
    {
     "data": {
      "text/plain": [
       "['<none>']"
      ]
     },
     "execution_count": 15,
     "metadata": {},
     "output_type": "execute_result"
    }
   ],
   "source": [
    "# value prediction label testing \n",
    "seq = \"<value> <none>\"\n",
    "value_labels = seq.split(\"<value>\")[1].split(\",\")\n",
    "value_labels = [x.strip() for x in value_labels if x != \"\"]\n",
    "value_labels\n"
   ]
  },
  {
   "cell_type": "code",
   "execution_count": null,
   "metadata": {},
   "outputs": [],
   "source": [
    "import datasets\n",
    "\n",
    "mt_val_filepath \n",
    "\n",
    "dev_mt_dataset = datasets.Dataset.from_json(mt_val_filepath)\n"
   ]
  },
  {
   "cell_type": "code",
   "execution_count": 16,
   "metadata": {},
   "outputs": [],
   "source": [
    "batch = {'output_sequence': '<value> Georgia, 2018, Roquan Smith', 'input_sequence': 'List values mentioned in the utterance: The Chicago Bears recent first round selection (2018) was Roquan Smith, an inside linebacker from Georgia. | List of Chicago Bears first-round draft picks : List of Chicago Bears first-round draft picks.Year , List of Chicago Bears first-round draft picks.Pick , List of Chicago Bears first-round draft picks.Player name , List of Chicago Bears first-round draft picks.Position , List of Chicago Bears first-round draft picks.College , List of Chicago Bears first-round draft picks.Notes'}"
   ]
  },
  {
   "cell_type": "code",
   "execution_count": 17,
   "metadata": {},
   "outputs": [],
   "source": [
    "batch_inputs = [data[0] for data in batch]\n",
    "batch_sqls = [data[1] for data in batch]\n"
   ]
  },
  {
   "cell_type": "markdown",
   "metadata": {},
   "source": []
  },
  {
   "cell_type": "code",
   "execution_count": null,
   "metadata": {},
   "outputs": [],
   "source": [
    "# Truncate that file..\n",
    "\n"
   ]
  },
  {
   "cell_type": "markdown",
   "metadata": {},
   "source": [
    "# Extract \"Zh\" setting "
   ]
  },
  {
   "cell_type": "markdown",
   "metadata": {},
   "source": []
  },
  {
   "cell_type": "code",
   "execution_count": 2,
   "metadata": {},
   "outputs": [
    {
     "name": "stdout",
     "output_type": "stream",
     "text": [
      "12854\n"
     ]
    }
   ],
   "source": [
    "# Word count \n",
    "import json \n",
    "\n",
    "spider_dev_path = \"/home/deokhk/research/ZX-seq2seq/data/spider/dev.json\"\n",
    "\n",
    "with open(spider_dev_path, 'r') as f:\n",
    "    spider_dev = json.load(f)\n",
    "\n",
    "word_count = 0\n",
    "for example in spider_dev:\n",
    "    question = example[\"question\"]\n",
    "    word_count += len(question.split(\" \"))\n",
    "\n",
    "print(word_count)\n"
   ]
  },
  {
   "cell_type": "code",
   "execution_count": 5,
   "metadata": {},
   "outputs": [],
   "source": [
    "import os\n",
    "import sqlite3\n",
    "import json \n",
    "\n",
    "from difflib import SequenceMatcher\n",
    "from func_timeout import func_set_timeout, FunctionTimedOut\n",
    "from sql_metadata import Parser"
   ]
  },
  {
   "cell_type": "code",
   "execution_count": 6,
   "metadata": {},
   "outputs": [],
   "source": [
    "\n",
    "def get_cursor_from_path(sqlite_path):\n",
    "    try:\n",
    "        if not os.path.exists(sqlite_path):\n",
    "            print(\"Openning a new connection %s\" % sqlite_path)\n",
    "        connection = sqlite3.connect(sqlite_path, check_same_thread = False)\n",
    "    except Exception as e:\n",
    "        print(sqlite_path)\n",
    "        raise e\n",
    "    connection.text_factory = lambda b: b.decode(errors=\"ignore\")\n",
    "    cursor = connection.cursor()\n",
    "    return cursor\n"
   ]
  },
  {
   "cell_type": "code",
   "execution_count": 12,
   "metadata": {},
   "outputs": [],
   "source": [
    "sqlite_path = \"/home/deokhk/research/ZX-seq2seq/vspider_database/perpetrator_test/perpetrator.sqlite\"\n",
    "cursor = get_cursor_from_path(sqlite_path)"
   ]
  },
  {
   "cell_type": "code",
   "execution_count": 16,
   "metadata": {},
   "outputs": [],
   "source": [
    "# Load tables.json file\n",
    "vspider_table_json_path = \"/home/deokhk/research/ZX-seq2seq/data/Vspider/tables.json\"\n",
    "spider_table_json_path = \"/home/deokhk/research/ZX-seq2seq/data/spider/tables.json\"\n",
    "\n",
    "with open(vspider_table_json_path, 'r') as f:\n",
    "    vspider_tables = json.load(f)\n",
    "\n",
    "with open(spider_table_json_path, 'r') as f:\n",
    "    spider_tables = json.load(f)\n",
    "\n",
    "# Iterate over spider and vspider and perform sanity check\n",
    "\n",
    "for vspider_tb, spider_tb in zip(vspider_tables, spider_tables):\n",
    "    assert vspider_tb[\"db_id\"] == spider_tb[\"db_id\"]\n",
    "    assert len(vspider_tb[\"table_names_original\"]) == len(spider_tb[\"table_names_original\"])\n",
    "    "
   ]
  },
  {
   "cell_type": "code",
   "execution_count": 31,
   "metadata": {},
   "outputs": [],
   "source": [
    "TABLE_RENAME_REQUEST = \"ALTER TABLE {ori_name} RENAME TO {new_name};\"\n",
    "COLUMN_RENAME_REQUEST = \"ALTER TABLE {table_name} RENAME COLUMN {ori_name} TO {new_name};\""
   ]
  },
  {
   "cell_type": "code",
   "execution_count": 15,
   "metadata": {},
   "outputs": [
    {
     "name": "stdout",
     "output_type": "stream",
     "text": [
      "perpetrator tội_phạm\n",
      "Table renamed\n",
      "people cá_nhân\n",
      "Table renamed\n"
     ]
    }
   ],
   "source": [
    "# 바꿔야 할 필드: table_names_original / column_names_original\n",
    "\n",
    "vtb = vspider_tables[0]\n",
    "tb = spider_tables[0] \n",
    "\n",
    "# Substitute the table name\n",
    "\n",
    "spider_tb_names = tb[\"table_names_original\"]\n",
    "vspider_tb_names = vtb[\"table_names_original\"]\n",
    "\n",
    "for spider_tb_name, vspider_tb_name in zip(spider_tb_names, vspider_tb_names):\n",
    "    if spider_tb_name != vspider_tb_name:\n",
    "        print(spider_tb_name, vspider_tb_name)\n",
    "        # Rename the table \n",
    "        cursor.execute(TABLE_RENAME_REQUEST.format(ori_name=spider_tb_name, new_name=vspider_tb_name))\n",
    "        print(\"Table renamed\")"
   ]
  },
  {
   "cell_type": "code",
   "execution_count": 23,
   "metadata": {},
   "outputs": [],
   "source": [
    "# Substitute the column names \n",
    "spider_column_names = tb[\"column_names_original\"]\n",
    "vspider_column_names = vtb[\"column_names_original\"]\n",
    "\n",
    "num_tables_in_db = len(spider_tb_names)\n",
    "# Make it into 2d list \n",
    "spider_column_names_2d = [[] for _ in range(num_tables_in_db)]\n",
    "for column_info in spider_column_names:\n",
    "    tb_idx  = column_info[0]\n",
    "    column_name = column_info[1]\n",
    "    if tb_idx != -1:\n",
    "        # We ignore \"*\" field.\n",
    "        spider_column_names_2d[tb_idx].append(column_name)\n",
    "\n",
    "vspider_column_names_2d = [[] for _ in range(num_tables_in_db)]\n",
    "for column_info in vspider_column_names:\n",
    "    tb_idx  = column_info[0]\n",
    "    column_name = column_info[1]\n",
    "    if tb_idx != -1:\n",
    "        # We ignore \"*\" field.\n",
    "        vspider_column_names_2d[tb_idx].append(column_name)"
   ]
  },
  {
   "cell_type": "code",
   "execution_count": 39,
   "metadata": {},
   "outputs": [],
   "source": [
    "COLUMN_RENAME_REQUEST = 'ALTER TABLE \"{table_name}\" RENAME COLUMN \"{ori_name}\" TO \"{new_name}\";'\n",
    "TABLE_RENAME_REQUEST = 'ALTER TABLE \"{ori_name}\" RENAME TO \"{new_name}\";'\n"
   ]
  },
  {
   "cell_type": "code",
   "execution_count": 42,
   "metadata": {},
   "outputs": [
    {
     "name": "stdout",
     "output_type": "stream",
     "text": [
      "[]\n",
      "tb_name: tội_phạm, scol: Perpetrator_ID, vcol: id tội_phạm\n",
      "<sqlite3.Cursor object at 0x7f21495a22d0>\n",
      "Column renamed\n",
      "tb_name: tội_phạm, scol: People_ID, vcol: id cá_nhân\n",
      "<sqlite3.Cursor object at 0x7f21495a22d0>\n",
      "Column renamed\n",
      "tb_name: tội_phạm, scol: Date, vcol: ngày\n",
      "<sqlite3.Cursor object at 0x7f21495a22d0>\n",
      "Column renamed\n",
      "tb_name: tội_phạm, scol: Year, vcol: năm\n",
      "<sqlite3.Cursor object at 0x7f21495a22d0>\n",
      "Column renamed\n",
      "tb_name: tội_phạm, scol: Location, vcol: địa_điểm\n",
      "<sqlite3.Cursor object at 0x7f21495a22d0>\n",
      "Column renamed\n",
      "tb_name: tội_phạm, scol: Country, vcol: quốc_gia\n",
      "<sqlite3.Cursor object at 0x7f21495a22d0>\n",
      "Column renamed\n",
      "tb_name: tội_phạm, scol: Killed, vcol: số người bị giết\n",
      "<sqlite3.Cursor object at 0x7f21495a22d0>\n",
      "Column renamed\n",
      "tb_name: tội_phạm, scol: Injured, vcol: số người bị_thương\n",
      "<sqlite3.Cursor object at 0x7f21495a22d0>\n",
      "Column renamed\n",
      "[]\n",
      "tb_name: cá_nhân, scol: People_ID, vcol: id cá_nhân\n",
      "<sqlite3.Cursor object at 0x7f21495a22d0>\n",
      "Column renamed\n",
      "tb_name: cá_nhân, scol: Name, vcol: tên\n",
      "<sqlite3.Cursor object at 0x7f21495a22d0>\n",
      "Column renamed\n",
      "tb_name: cá_nhân, scol: Height, vcol: chiều cao\n",
      "<sqlite3.Cursor object at 0x7f21495a22d0>\n",
      "Column renamed\n",
      "tb_name: cá_nhân, scol: Weight, vcol: cân nặng\n",
      "<sqlite3.Cursor object at 0x7f21495a22d0>\n",
      "Column renamed\n",
      "tb_name: cá_nhân, scol: Home Town, vcol: quê_quán\n",
      "<sqlite3.Cursor object at 0x7f21495a22d0>\n",
      "Column renamed\n"
     ]
    }
   ],
   "source": [
    "for tb_idx, (spider_column_in_tb, vspider_column_in_tb) in enumerate(zip(spider_column_names_2d, vspider_column_names_2d)):\n",
    "    # Substitute the column names\n",
    "    # Anyway we need a vspider table name \n",
    "    vspider_tb_name = vspider_tb_names[tb_idx]\n",
    "    for spider_column_name, vspider_column_name in zip(spider_column_in_tb, vspider_column_in_tb):\n",
    "        print(f\"tb_name: {vspider_tb_name}, scol: {spider_column_name}, vcol: {vspider_column_name}\")\n",
    "        out = cursor.execute(COLUMN_RENAME_REQUEST.format(table_name=vspider_tb_name, ori_name=spider_column_name, new_name=vspider_column_name))\n",
    "        print(out)\n",
    "        print(\"Column renamed\")\n"
   ]
  },
  {
   "cell_type": "code",
   "execution_count": 3,
   "metadata": {},
   "outputs": [],
   "source": [
    "# List or files in a directory \n",
    "import os \n",
    "dir = \"/home/deokhk/research/ZX-seq2seq/vspider_database\"\n",
    "\n",
    "db_names = os.listdir(dir)"
   ]
  },
  {
   "cell_type": "markdown",
   "metadata": {},
   "source": [
    "# Export to Excel file"
   ]
  },
  {
   "cell_type": "code",
   "execution_count": 6,
   "metadata": {},
   "outputs": [],
   "source": [
    "# first shuffle the korean translation..\n",
    "\n",
    "import json \n",
    "\n",
    "mt_path = \"./data/spider/question_translated_to_am.json\"\n",
    "with open(mt_path, 'r') as f:\n",
    "    mt_raw = json.load(f)\n",
    "\n",
    "import random \n",
    "random.shuffle(mt_raw)\n",
    "\n",
    "# pick only 100 example \n",
    "mt_raw = mt_raw[:100]\n",
    "\n",
    "mt_raw_dropped = []\n",
    "for mt_ in mt_raw:\n",
    "    mt_raw_dropped.append({\n",
    "        \"db_id\": mt_[\"db_id\"],\n",
    "        \"original_question\": mt_[\"original_question\"], \n",
    "        \"query\": mt_[\"query\"], \n",
    "    })\n",
    "\n",
    "save_path = \"./question_sample.json\"\n",
    "with open(save_path, 'w') as f:\n",
    "    json.dump(mt_raw_dropped, f, indent=4)"
   ]
  },
  {
   "cell_type": "code",
   "execution_count": 2,
   "metadata": {},
   "outputs": [],
   "source": [
    "# Amhara export \n",
    "\n",
    "import json \n",
    "import pandas as pd \n",
    "amhara_path = \"/home/deokhk/research/ZX-seq2seq/data/spider/question_translated_to_am.json\"\n",
    "\n",
    "with open(amhara_path, 'r') as f:   \n",
    "    amhara_raw = json.load(f)\n",
    "\n",
    "# Export to csv\n",
    "amhara_df = pd.DataFrame(amhara_raw)\n",
    "amhara_df.to_csv(\"./amhara.csv\", index=False)\n",
    "\n",
    "telugu_path = \"/home/deokhk/research/ZX-seq2seq/data/spider/question_translated_to_te.json\"\n",
    "\n",
    "with open(telugu_path, 'r') as f:   \n",
    "    telugu_raw = json.load(f)\n",
    "\n",
    "# Export to csv\n",
    "telugu_df = pd.DataFrame(telugu_raw)\n",
    "telugu_df.to_csv(\"./telugu.csv\", index=False)"
   ]
  },
  {
   "cell_type": "code",
   "execution_count": 4,
   "metadata": {},
   "outputs": [
    {
     "name": "stdout",
     "output_type": "stream",
     "text": [
      "496054\n"
     ]
    }
   ],
   "source": [
    "# Test\n",
    "\n",
    "import json \n",
    "path = \"/home/deokhk/research/ZX-seq2seq/data/spider/train_spider.json\"\n",
    "\n",
    "with open(path ,'r') as f:\n",
    "    data = json.load(f)\n",
    "\n",
    "count = 0\n",
    "for d in data:\n",
    "    count += len(d[\"question\"])\n",
    "\n",
    "print(count)"
   ]
  },
  {
   "cell_type": "markdown",
   "metadata": {},
   "source": [
    "# Excel amhara -> to json format "
   ]
  },
  {
   "cell_type": "code",
   "execution_count": 14,
   "metadata": {},
   "outputs": [],
   "source": [
    "spider_dev_path = \"/home/deokhk/research/ZX-seq2seq/data/spider/dev.json\"\n",
    "\n",
    "# amhara_q, eng_q pair required \n",
    "amharic_path = \"/home/deokhk/research/ZX-seq2seq/Spider_Amharic_translated.xlsx\"\n",
    "import pandas as pd \n",
    "\n",
    "amharic_df = pd.read_excel(amharic_path)\n"
   ]
  },
  {
   "cell_type": "code",
   "execution_count": 15,
   "metadata": {},
   "outputs": [],
   "source": [
    "# Iteratve over amharic_df and update dictionary, as \"original_question\" : \"translated_question\"\n",
    "amharic_dict = {}\n",
    "for idx, row in amharic_df.iterrows():\n",
    "    amharic_dict[row[\"original_question\"]] = row[\"translated_question\"]"
   ]
  },
  {
   "cell_type": "code",
   "execution_count": 16,
   "metadata": {},
   "outputs": [],
   "source": [
    "# Load spider dev dataset\n",
    "import json\n",
    "with open(spider_dev_path, 'r') as f:\n",
    "    spider_dev = json.load(f)\n",
    "\n",
    "spider_dev_amharic = []\n",
    "for example in spider_dev:\n",
    "    original_question = example[\"question\"]\n",
    "    original_question = original_question.replace(\"\\u2018\", \"'\").replace(\"\\u2019\", \"'\").replace(\"\\u201c\", \"'\").replace(\"\\u201d\", \"'\").strip()\n",
    "    try:\n",
    "        translated_question = amharic_dict[original_question]\n",
    "    except KeyError as e:\n",
    "        print(len(spider_dev_amharic))\n",
    "        print(e)\n",
    "    example[\"question\"] = translated_question\n",
    "    example[\"question_toks\"] = translated_question.split(\" \")\n",
    "    spider_dev_amharic.append(example)"
   ]
  },
  {
   "cell_type": "code",
   "execution_count": 22,
   "metadata": {},
   "outputs": [],
   "source": [
    "amharic_json_save_path = \"/home/deokhk/research/ZX-seq2seq/data/amharic_spider/dev_amharic.json\"\n",
    "with open(amharic_json_save_path, 'w') as f:\n",
    "    json.dump(spider_dev_amharic, f, indent=4, ensure_ascii=False)"
   ]
  },
  {
   "cell_type": "markdown",
   "metadata": {},
   "source": [
    "# Excel korean -> to json format"
   ]
  },
  {
   "cell_type": "code",
   "execution_count": 4,
   "metadata": {},
   "outputs": [
    {
     "data": {
      "text/html": [
       "<div>\n",
       "<style scoped>\n",
       "    .dataframe tbody tr th:only-of-type {\n",
       "        vertical-align: middle;\n",
       "    }\n",
       "\n",
       "    .dataframe tbody tr th {\n",
       "        vertical-align: top;\n",
       "    }\n",
       "\n",
       "    .dataframe thead th {\n",
       "        text-align: right;\n",
       "    }\n",
       "</style>\n",
       "<table border=\"1\" class=\"dataframe\">\n",
       "  <thead>\n",
       "    <tr style=\"text-align: right;\">\n",
       "      <th></th>\n",
       "      <th>db_id</th>\n",
       "      <th>original_question</th>\n",
       "      <th>translated question</th>\n",
       "      <th>query</th>\n",
       "    </tr>\n",
       "  </thead>\n",
       "  <tbody>\n",
       "    <tr>\n",
       "      <th>0</th>\n",
       "      <td>voter_1</td>\n",
       "      <td>What is the area code in which the most voters...</td>\n",
       "      <td>가장 많은 유권자가 투표한 지역의 코드는?</td>\n",
       "      <td>SELECT T1.area_code FROM area_code_state AS T1...</td>\n",
       "    </tr>\n",
       "    <tr>\n",
       "      <th>1</th>\n",
       "      <td>network_1</td>\n",
       "      <td>Count the number of high schoolers in grades 9...</td>\n",
       "      <td>9학년 또는 10학년 고등학생들의 수는 어떻게 되는가.</td>\n",
       "      <td>SELECT count(*) FROM Highschooler WHERE grade ...</td>\n",
       "    </tr>\n",
       "    <tr>\n",
       "      <th>2</th>\n",
       "      <td>network_1</td>\n",
       "      <td>What are the names of students who have 2 or m...</td>\n",
       "      <td>2개 이상의 좋아요를 받은 학생들의 이름은?</td>\n",
       "      <td>SELECT T2.name FROM Likes AS T1 JOIN Highschoo...</td>\n",
       "    </tr>\n",
       "    <tr>\n",
       "      <th>3</th>\n",
       "      <td>orchestra</td>\n",
       "      <td>What are the orchestras that do not have any p...</td>\n",
       "      <td>단 한번도 공연을 하지 않은 오케스트라는?</td>\n",
       "      <td>SELECT Orchestra FROM orchestra WHERE Orchestr...</td>\n",
       "    </tr>\n",
       "    <tr>\n",
       "      <th>4</th>\n",
       "      <td>tvshow</td>\n",
       "      <td>How many cartoons were written by \"Joseph Kuhr\"?</td>\n",
       "      <td>\"Joseph Kuhr\"가 작가인 만화책의 수는?</td>\n",
       "      <td>SELECT count(*) FROM Cartoon WHERE Written_by ...</td>\n",
       "    </tr>\n",
       "    <tr>\n",
       "      <th>5</th>\n",
       "      <td>world_1</td>\n",
       "      <td>What is the average GNP and total population i...</td>\n",
       "      <td>정부가 미국 영토에 속하는 나라들의 평균 GNP와 총인구수는?</td>\n",
       "      <td>SELECT avg(GNP) ,  sum(population) FROM countr...</td>\n",
       "    </tr>\n",
       "    <tr>\n",
       "      <th>6</th>\n",
       "      <td>car_1</td>\n",
       "      <td>What model has the most different versions?</td>\n",
       "      <td>다른 버전이 가장 많은 모델은?</td>\n",
       "      <td>SELECT Model FROM CAR_NAMES GROUP BY Model ORD...</td>\n",
       "    </tr>\n",
       "    <tr>\n",
       "      <th>7</th>\n",
       "      <td>tvshow</td>\n",
       "      <td>What is the weekly rank for the episode \"A Lov...</td>\n",
       "      <td>\"A Love of a Lifetime\"라는 제목을 가진 에피소드의 주간 랭크는?</td>\n",
       "      <td>SELECT Weekly_Rank FROM TV_series WHERE Episod...</td>\n",
       "    </tr>\n",
       "    <tr>\n",
       "      <th>8</th>\n",
       "      <td>dog_kennels</td>\n",
       "      <td>Count the number of dogs that went through a t...</td>\n",
       "      <td>치료를 받은 개들의 수는 어떻게 되는가.</td>\n",
       "      <td>SELECT count(DISTINCT dog_id) FROM Treatments</td>\n",
       "    </tr>\n",
       "    <tr>\n",
       "      <th>9</th>\n",
       "      <td>world_1</td>\n",
       "      <td>Which regions speak Dutch or English?</td>\n",
       "      <td>영어 또는 네덜란드어를 사용하는 지역은?</td>\n",
       "      <td>SELECT DISTINCT T1.Region FROM country AS T1 J...</td>\n",
       "    </tr>\n",
       "    <tr>\n",
       "      <th>10</th>\n",
       "      <td>world_1</td>\n",
       "      <td>Give the names of nations that speak both Engl...</td>\n",
       "      <td>영어와 불어를 동시에 사용하는 국가들의 이름은?</td>\n",
       "      <td>SELECT T1.Name FROM country AS T1 JOIN country...</td>\n",
       "    </tr>\n",
       "    <tr>\n",
       "      <th>11</th>\n",
       "      <td>flight_2</td>\n",
       "      <td>Return the number of United Airlines flights l...</td>\n",
       "      <td>AHD 공항에서 출발하는 United Airlines 항공편의 수는?</td>\n",
       "      <td>SELECT count(*) FROM AIRLINES AS T1 JOIN FLIGH...</td>\n",
       "    </tr>\n",
       "    <tr>\n",
       "      <th>12</th>\n",
       "      <td>network_1</td>\n",
       "      <td>Show the names and grades of each high schooler.</td>\n",
       "      <td>각 고등학생들의 이름과 성적을 알려줘.</td>\n",
       "      <td>SELECT name ,  grade FROM Highschooler</td>\n",
       "    </tr>\n",
       "    <tr>\n",
       "      <th>13</th>\n",
       "      <td>cre_Doc_Template_Mgt</td>\n",
       "      <td>Return the ids corresponding to templates with...</td>\n",
       "      <td>설명이 \"Presentation\"인 템플릿들의 id를 알려줘.</td>\n",
       "      <td>SELECT T2.template_id FROM Ref_template_types ...</td>\n",
       "    </tr>\n",
       "    <tr>\n",
       "      <th>14</th>\n",
       "      <td>employee_hire_evaluation</td>\n",
       "      <td>Find the manager name and district of the shop...</td>\n",
       "      <td>상품 수가 가장 많은 가게의 점장명과 위치을 알려줘.</td>\n",
       "      <td>SELECT manager_name ,  district FROM shop ORDE...</td>\n",
       "    </tr>\n",
       "    <tr>\n",
       "      <th>15</th>\n",
       "      <td>employee_hire_evaluation</td>\n",
       "      <td>What is the name of the shop that is hiring th...</td>\n",
       "      <td>가장 많은 수의 종업원을 고용하고 있는 가게의 이름은?</td>\n",
       "      <td>SELECT t2.name FROM hiring AS t1 JOIN shop AS ...</td>\n",
       "    </tr>\n",
       "    <tr>\n",
       "      <th>16</th>\n",
       "      <td>world_1</td>\n",
       "      <td>Return the names of the 3 most populated count...</td>\n",
       "      <td>가장 인구수가 많은 국가 세 개를 알려줘.</td>\n",
       "      <td>SELECT Name FROM country ORDER BY Population D...</td>\n",
       "    </tr>\n",
       "    <tr>\n",
       "      <th>17</th>\n",
       "      <td>world_1</td>\n",
       "      <td>What is the total population of Gelderland dis...</td>\n",
       "      <td>Gelderland 지구의 총 인구수는?</td>\n",
       "      <td>SELECT sum(Population) FROM city WHERE Distric...</td>\n",
       "    </tr>\n",
       "    <tr>\n",
       "      <th>18</th>\n",
       "      <td>cre_Doc_Template_Mgt</td>\n",
       "      <td>Count the number of paragraphs in the document...</td>\n",
       "      <td>\"Summer Show\"라는 제목을 가진 문서의 문단 수는?</td>\n",
       "      <td>SELECT count(*) FROM Paragraphs AS T1 JOIN Doc...</td>\n",
       "    </tr>\n",
       "    <tr>\n",
       "      <th>19</th>\n",
       "      <td>student_transcripts_tracking</td>\n",
       "      <td>What are the different addresses that have stu...</td>\n",
       "      <td>학생들이  거주하는 주소들을 중복없이 알려줘.</td>\n",
       "      <td>SELECT count(DISTINCT current_address_id) FROM...</td>\n",
       "    </tr>\n",
       "    <tr>\n",
       "      <th>20</th>\n",
       "      <td>orchestra</td>\n",
       "      <td>What are the names of conductors whose nationa...</td>\n",
       "      <td>국적이 \"USA\"가 아닌 지휘자의 이름은?</td>\n",
       "      <td>SELECT Name FROM conductor WHERE Nationality !...</td>\n",
       "    </tr>\n",
       "    <tr>\n",
       "      <th>21</th>\n",
       "      <td>concert_singer</td>\n",
       "      <td>What is the name and country of origin of ever...</td>\n",
       "      <td>제목에 \"Hey\"라는 단어가 포함된 노래를 부른 가수들의 이름과 출생국은?</td>\n",
       "      <td>SELECT name ,  country FROM singer WHERE song_...</td>\n",
       "    </tr>\n",
       "    <tr>\n",
       "      <th>22</th>\n",
       "      <td>pets_1</td>\n",
       "      <td>How many pets have a greater weight than 10?</td>\n",
       "      <td>무게가 10보다 큰 애완동물이 얼마나 있나?</td>\n",
       "      <td>SELECT count(*) FROM pets WHERE weight  &gt;  10</td>\n",
       "    </tr>\n",
       "    <tr>\n",
       "      <th>23</th>\n",
       "      <td>student_transcripts_tracking</td>\n",
       "      <td>How many different departments offer degrees?</td>\n",
       "      <td>학위를 제공하는 학과들의 수는?</td>\n",
       "      <td>SELECT count(DISTINCT department_id) FROM Degr...</td>\n",
       "    </tr>\n",
       "    <tr>\n",
       "      <th>24</th>\n",
       "      <td>cre_Doc_Template_Mgt</td>\n",
       "      <td>What are the ids of documents that contain the...</td>\n",
       "      <td>문단 내에 \"Brazil\"과 \"Ireland\"를 포함하고 있는 문서들의 id는?</td>\n",
       "      <td>SELECT document_id FROM Paragraphs WHERE parag...</td>\n",
       "    </tr>\n",
       "    <tr>\n",
       "      <th>25</th>\n",
       "      <td>network_1</td>\n",
       "      <td>Show name of all students who have some friend...</td>\n",
       "      <td>친구가 있고 동시에 다른 사람이 좋아하고 있는 학생들의 이름을 알려줘.</td>\n",
       "      <td>SELECT T2.name FROM Friend AS T1 JOIN Highscho...</td>\n",
       "    </tr>\n",
       "    <tr>\n",
       "      <th>26</th>\n",
       "      <td>world_1</td>\n",
       "      <td>What are the names of countries that speak mor...</td>\n",
       "      <td>2개 이상의 공용어를 가지는 국가들의 이름을 해당 국가의 공용어 수와 함께 보여줘.</td>\n",
       "      <td>SELECT COUNT(T2.Language) ,  T1.Name FROM coun...</td>\n",
       "    </tr>\n",
       "    <tr>\n",
       "      <th>27</th>\n",
       "      <td>dog_kennels</td>\n",
       "      <td>Find the arriving date and the departing date ...</td>\n",
       "      <td>치료를 받은 개들의 출발일과 도착일을 찾아줘.</td>\n",
       "      <td>SELECT DISTINCT T1.date_arrived ,  T1.date_dep...</td>\n",
       "    </tr>\n",
       "    <tr>\n",
       "      <th>28</th>\n",
       "      <td>student_transcripts_tracking</td>\n",
       "      <td>What is the zip code for Port Chelsea?</td>\n",
       "      <td>Port Chelsea의 우편번호는?</td>\n",
       "      <td>SELECT zip_postcode FROM Addresses WHERE city ...</td>\n",
       "    </tr>\n",
       "    <tr>\n",
       "      <th>29</th>\n",
       "      <td>voter_1</td>\n",
       "      <td>What are the number of votes from state 'NY' o...</td>\n",
       "      <td>\"NY\"주 또는 \"CA\" 주에서 얻은 총 득표수는?</td>\n",
       "      <td>SELECT count(*) FROM votes WHERE state  =  'NY...</td>\n",
       "    </tr>\n",
       "    <tr>\n",
       "      <th>30</th>\n",
       "      <td>network_1</td>\n",
       "      <td>How many likes correspond to each student id?</td>\n",
       "      <td>각 학생 ID에 해당하는 좋아요 수는 몇개인가?</td>\n",
       "      <td>SELECT student_id ,  count(*) FROM Likes GROUP...</td>\n",
       "    </tr>\n",
       "    <tr>\n",
       "      <th>31</th>\n",
       "      <td>employee_hire_evaluation</td>\n",
       "      <td>Give me all the information about hiring.</td>\n",
       "      <td>채용에 관한 모든 정보를 알려줘.</td>\n",
       "      <td>SELECT * FROM hiring</td>\n",
       "    </tr>\n",
       "    <tr>\n",
       "      <th>32</th>\n",
       "      <td>pets_1</td>\n",
       "      <td>What are the students' first names who have bo...</td>\n",
       "      <td>개와 고양이를 동시에 키우고 있는 학생들의 이름을 알려줘.</td>\n",
       "      <td>SELECT T1.Fname FROM student AS T1 JOIN has_pe...</td>\n",
       "    </tr>\n",
       "    <tr>\n",
       "      <th>33</th>\n",
       "      <td>singer</td>\n",
       "      <td>What is the name of the singer with the larges...</td>\n",
       "      <td>재산이 가장 많은 가수의 이름은?</td>\n",
       "      <td>SELECT Name FROM singer ORDER BY Net_Worth_Mil...</td>\n",
       "    </tr>\n",
       "    <tr>\n",
       "      <th>34</th>\n",
       "      <td>world_1</td>\n",
       "      <td>What languages are only used by a single count...</td>\n",
       "      <td>공화정을 채택한 국가들 중 오직 하나의 국가에서만 사용되는 언어들은?</td>\n",
       "      <td>SELECT T2.Language FROM country AS T1 JOIN cou...</td>\n",
       "    </tr>\n",
       "    <tr>\n",
       "      <th>35</th>\n",
       "      <td>world_1</td>\n",
       "      <td>Give the total population and average surface ...</td>\n",
       "      <td>국토 면적이 3000이상이고 북미에 속하는 국가들의 총 인구와 평균 표면적을 알려줘.</td>\n",
       "      <td>select sum(population) ,  avg(surfacearea) fro...</td>\n",
       "    </tr>\n",
       "    <tr>\n",
       "      <th>36</th>\n",
       "      <td>orchestra</td>\n",
       "      <td>Return the average attendance across all shows.</td>\n",
       "      <td>모든 공연의 평균 관람객수는?</td>\n",
       "      <td>SELECT avg(Attendance) FROM SHOW</td>\n",
       "    </tr>\n",
       "    <tr>\n",
       "      <th>37</th>\n",
       "      <td>employee_hire_evaluation</td>\n",
       "      <td>Find the names of employees who never won any ...</td>\n",
       "      <td>직원 평가에서 한 번도 수상한 적 없는 직원들의 이름을 찾아줘.</td>\n",
       "      <td>SELECT name FROM employee WHERE Employee_ID NO...</td>\n",
       "    </tr>\n",
       "    <tr>\n",
       "      <th>38</th>\n",
       "      <td>network_1</td>\n",
       "      <td>Count the number of high schoolers.</td>\n",
       "      <td>고등학생들의 수는?</td>\n",
       "      <td>SELECT count(*) FROM Highschooler</td>\n",
       "    </tr>\n",
       "    <tr>\n",
       "      <th>39</th>\n",
       "      <td>network_1</td>\n",
       "      <td>Show the ID of the high schooler named Kyle.</td>\n",
       "      <td>이름이 \"Kyle\"인 고등학생들의 ID를 보여줘.</td>\n",
       "      <td>SELECT ID FROM Highschooler WHERE name  =  \"Kyle\"</td>\n",
       "    </tr>\n",
       "    <tr>\n",
       "      <th>40</th>\n",
       "      <td>flight_2</td>\n",
       "      <td>Which city is the most frequent source airport?</td>\n",
       "      <td>출발 항공편이 가장 많은 공항이 속한 도시는?</td>\n",
       "      <td>SELECT T1.City FROM AIRPORTS AS T1 JOIN FLIGHT...</td>\n",
       "    </tr>\n",
       "    <tr>\n",
       "      <th>41</th>\n",
       "      <td>world_1</td>\n",
       "      <td>Give me Brazil population and life expectancies.</td>\n",
       "      <td>브라질의 인구와 평균 수명을 알려줘.</td>\n",
       "      <td>SELECT Population ,  LifeExpectancy FROM count...</td>\n",
       "    </tr>\n",
       "    <tr>\n",
       "      <th>42</th>\n",
       "      <td>orchestra</td>\n",
       "      <td>What are the record companies that are used by...</td>\n",
       "      <td>2003년 이전과 설립된 오케스트라와 2003년 이후에 설립된 오케스트라 모두에서 ...</td>\n",
       "      <td>SELECT Record_Company FROM orchestra WHERE Yea...</td>\n",
       "    </tr>\n",
       "    <tr>\n",
       "      <th>43</th>\n",
       "      <td>cre_Doc_Template_Mgt</td>\n",
       "      <td>What are the ids, version numbers, and type co...</td>\n",
       "      <td>각 템플릿의 id, 버전넘버, 타입코드는?</td>\n",
       "      <td>SELECT template_id ,  version_number ,  templa...</td>\n",
       "    </tr>\n",
       "    <tr>\n",
       "      <th>44</th>\n",
       "      <td>network_1</td>\n",
       "      <td>What is the name of the high schooler who has ...</td>\n",
       "      <td>친구가 가장 많은 고등학생의 이름은?</td>\n",
       "      <td>SELECT T2.name FROM Friend AS T1 JOIN Highscho...</td>\n",
       "    </tr>\n",
       "    <tr>\n",
       "      <th>45</th>\n",
       "      <td>orchestra</td>\n",
       "      <td>Return the record companies of orchestras, sor...</td>\n",
       "      <td>오케스트라의 음반회사를 회사의 창립 연도를 내림차순으로 정렬한 순서에 따라 알려줘.</td>\n",
       "      <td>SELECT Record_Company FROM orchestra ORDER BY ...</td>\n",
       "    </tr>\n",
       "    <tr>\n",
       "      <th>46</th>\n",
       "      <td>employee_hire_evaluation</td>\n",
       "      <td>Which shops run with no employees? Find the sh...</td>\n",
       "      <td>직원이 없는 가게의 이름은?</td>\n",
       "      <td>SELECT name FROM shop WHERE shop_id NOT IN (SE...</td>\n",
       "    </tr>\n",
       "    <tr>\n",
       "      <th>47</th>\n",
       "      <td>world_1</td>\n",
       "      <td>What is the total number of people living in t...</td>\n",
       "      <td>영어를 사용하지 않는 국가에 사는 사람들의 총 수는?</td>\n",
       "      <td>SELECT sum(Population) FROM country WHERE Name...</td>\n",
       "    </tr>\n",
       "    <tr>\n",
       "      <th>48</th>\n",
       "      <td>tvshow</td>\n",
       "      <td>which countries' tv channels are playing some ...</td>\n",
       "      <td>어느 국가의 tv 채널이 Todd Casey\"가 작가인 만화를 방영하고 있는가?</td>\n",
       "      <td>SELECT T1.country FROM TV_Channel AS T1 JOIN c...</td>\n",
       "    </tr>\n",
       "    <tr>\n",
       "      <th>49</th>\n",
       "      <td>singer</td>\n",
       "      <td>What are the names of the singers that have mo...</td>\n",
       "      <td>곡수가 두 곡 이상인 가수의 이름은?</td>\n",
       "      <td>SELECT T1.Name FROM singer AS T1 JOIN song AS ...</td>\n",
       "    </tr>\n",
       "  </tbody>\n",
       "</table>\n",
       "</div>"
      ],
      "text/plain": [
       "                           db_id  \\\n",
       "0                        voter_1   \n",
       "1                      network_1   \n",
       "2                      network_1   \n",
       "3                      orchestra   \n",
       "4                         tvshow   \n",
       "5                        world_1   \n",
       "6                          car_1   \n",
       "7                         tvshow   \n",
       "8                    dog_kennels   \n",
       "9                        world_1   \n",
       "10                       world_1   \n",
       "11                      flight_2   \n",
       "12                     network_1   \n",
       "13          cre_Doc_Template_Mgt   \n",
       "14      employee_hire_evaluation   \n",
       "15      employee_hire_evaluation   \n",
       "16                       world_1   \n",
       "17                       world_1   \n",
       "18          cre_Doc_Template_Mgt   \n",
       "19  student_transcripts_tracking   \n",
       "20                     orchestra   \n",
       "21                concert_singer   \n",
       "22                        pets_1   \n",
       "23  student_transcripts_tracking   \n",
       "24          cre_Doc_Template_Mgt   \n",
       "25                     network_1   \n",
       "26                       world_1   \n",
       "27                   dog_kennels   \n",
       "28  student_transcripts_tracking   \n",
       "29                       voter_1   \n",
       "30                     network_1   \n",
       "31      employee_hire_evaluation   \n",
       "32                        pets_1   \n",
       "33                        singer   \n",
       "34                       world_1   \n",
       "35                       world_1   \n",
       "36                     orchestra   \n",
       "37      employee_hire_evaluation   \n",
       "38                     network_1   \n",
       "39                     network_1   \n",
       "40                      flight_2   \n",
       "41                       world_1   \n",
       "42                     orchestra   \n",
       "43          cre_Doc_Template_Mgt   \n",
       "44                     network_1   \n",
       "45                     orchestra   \n",
       "46      employee_hire_evaluation   \n",
       "47                       world_1   \n",
       "48                        tvshow   \n",
       "49                        singer   \n",
       "\n",
       "                                    original_question  \\\n",
       "0   What is the area code in which the most voters...   \n",
       "1   Count the number of high schoolers in grades 9...   \n",
       "2   What are the names of students who have 2 or m...   \n",
       "3   What are the orchestras that do not have any p...   \n",
       "4    How many cartoons were written by \"Joseph Kuhr\"?   \n",
       "5   What is the average GNP and total population i...   \n",
       "6         What model has the most different versions?   \n",
       "7   What is the weekly rank for the episode \"A Lov...   \n",
       "8   Count the number of dogs that went through a t...   \n",
       "9               Which regions speak Dutch or English?   \n",
       "10  Give the names of nations that speak both Engl...   \n",
       "11  Return the number of United Airlines flights l...   \n",
       "12   Show the names and grades of each high schooler.   \n",
       "13  Return the ids corresponding to templates with...   \n",
       "14  Find the manager name and district of the shop...   \n",
       "15  What is the name of the shop that is hiring th...   \n",
       "16  Return the names of the 3 most populated count...   \n",
       "17  What is the total population of Gelderland dis...   \n",
       "18  Count the number of paragraphs in the document...   \n",
       "19  What are the different addresses that have stu...   \n",
       "20  What are the names of conductors whose nationa...   \n",
       "21  What is the name and country of origin of ever...   \n",
       "22       How many pets have a greater weight than 10?   \n",
       "23      How many different departments offer degrees?   \n",
       "24  What are the ids of documents that contain the...   \n",
       "25  Show name of all students who have some friend...   \n",
       "26  What are the names of countries that speak mor...   \n",
       "27  Find the arriving date and the departing date ...   \n",
       "28             What is the zip code for Port Chelsea?   \n",
       "29  What are the number of votes from state 'NY' o...   \n",
       "30      How many likes correspond to each student id?   \n",
       "31          Give me all the information about hiring.   \n",
       "32  What are the students' first names who have bo...   \n",
       "33  What is the name of the singer with the larges...   \n",
       "34  What languages are only used by a single count...   \n",
       "35  Give the total population and average surface ...   \n",
       "36    Return the average attendance across all shows.   \n",
       "37  Find the names of employees who never won any ...   \n",
       "38                Count the number of high schoolers.   \n",
       "39       Show the ID of the high schooler named Kyle.   \n",
       "40    Which city is the most frequent source airport?   \n",
       "41   Give me Brazil population and life expectancies.   \n",
       "42  What are the record companies that are used by...   \n",
       "43  What are the ids, version numbers, and type co...   \n",
       "44  What is the name of the high schooler who has ...   \n",
       "45  Return the record companies of orchestras, sor...   \n",
       "46  Which shops run with no employees? Find the sh...   \n",
       "47  What is the total number of people living in t...   \n",
       "48  which countries' tv channels are playing some ...   \n",
       "49  What are the names of the singers that have mo...   \n",
       "\n",
       "                                  translated question  \\\n",
       "0                             가장 많은 유권자가 투표한 지역의 코드는?   \n",
       "1                      9학년 또는 10학년 고등학생들의 수는 어떻게 되는가.   \n",
       "2                            2개 이상의 좋아요를 받은 학생들의 이름은?   \n",
       "3                             단 한번도 공연을 하지 않은 오케스트라는?   \n",
       "4                         \"Joseph Kuhr\"가 작가인 만화책의 수는?   \n",
       "5                  정부가 미국 영토에 속하는 나라들의 평균 GNP와 총인구수는?   \n",
       "6                                   다른 버전이 가장 많은 모델은?   \n",
       "7      \"A Love of a Lifetime\"라는 제목을 가진 에피소드의 주간 랭크는?    \n",
       "8                              치료를 받은 개들의 수는 어떻게 되는가.   \n",
       "9                              영어 또는 네덜란드어를 사용하는 지역은?   \n",
       "10                         영어와 불어를 동시에 사용하는 국가들의 이름은?   \n",
       "11             AHD 공항에서 출발하는 United Airlines 항공편의 수는?   \n",
       "12                              각 고등학생들의 이름과 성적을 알려줘.   \n",
       "13                 설명이 \"Presentation\"인 템플릿들의 id를 알려줘.   \n",
       "14                     상품 수가 가장 많은 가게의 점장명과 위치을 알려줘.    \n",
       "15                     가장 많은 수의 종업원을 고용하고 있는 가게의 이름은?   \n",
       "16                            가장 인구수가 많은 국가 세 개를 알려줘.   \n",
       "17                             Gelderland 지구의 총 인구수는?   \n",
       "18                  \"Summer Show\"라는 제목을 가진 문서의 문단 수는?   \n",
       "19                          학생들이  거주하는 주소들을 중복없이 알려줘.   \n",
       "20                           국적이 \"USA\"가 아닌 지휘자의 이름은?    \n",
       "21          제목에 \"Hey\"라는 단어가 포함된 노래를 부른 가수들의 이름과 출생국은?   \n",
       "22                           무게가 10보다 큰 애완동물이 얼마나 있나?   \n",
       "23                                  학위를 제공하는 학과들의 수는?   \n",
       "24       문단 내에 \"Brazil\"과 \"Ireland\"를 포함하고 있는 문서들의 id는?   \n",
       "25           친구가 있고 동시에 다른 사람이 좋아하고 있는 학생들의 이름을 알려줘.    \n",
       "26    2개 이상의 공용어를 가지는 국가들의 이름을 해당 국가의 공용어 수와 함께 보여줘.    \n",
       "27                         치료를 받은 개들의 출발일과 도착일을 찾아줘.    \n",
       "28                               Port Chelsea의 우편번호는?   \n",
       "29                       \"NY\"주 또는 \"CA\" 주에서 얻은 총 득표수는?   \n",
       "30                        각 학생 ID에 해당하는 좋아요 수는 몇개인가?    \n",
       "31                                 채용에 관한 모든 정보를 알려줘.   \n",
       "32                   개와 고양이를 동시에 키우고 있는 학생들의 이름을 알려줘.   \n",
       "33                                 재산이 가장 많은 가수의 이름은?   \n",
       "34             공화정을 채택한 국가들 중 오직 하나의 국가에서만 사용되는 언어들은?   \n",
       "35    국토 면적이 3000이상이고 북미에 속하는 국가들의 총 인구와 평균 표면적을 알려줘.   \n",
       "36                                   모든 공연의 평균 관람객수는?   \n",
       "37                직원 평가에서 한 번도 수상한 적 없는 직원들의 이름을 찾아줘.   \n",
       "38                                         고등학생들의 수는?   \n",
       "39                        이름이 \"Kyle\"인 고등학생들의 ID를 보여줘.   \n",
       "40                          출발 항공편이 가장 많은 공항이 속한 도시는?   \n",
       "41                               브라질의 인구와 평균 수명을 알려줘.   \n",
       "42  2003년 이전과 설립된 오케스트라와 2003년 이후에 설립된 오케스트라 모두에서 ...   \n",
       "43                            각 템플릿의 id, 버전넘버, 타입코드는?   \n",
       "44                               친구가 가장 많은 고등학생의 이름은?   \n",
       "45     오케스트라의 음반회사를 회사의 창립 연도를 내림차순으로 정렬한 순서에 따라 알려줘.   \n",
       "46                                    직원이 없는 가게의 이름은?   \n",
       "47                      영어를 사용하지 않는 국가에 사는 사람들의 총 수는?   \n",
       "48       어느 국가의 tv 채널이 Todd Casey\"가 작가인 만화를 방영하고 있는가?   \n",
       "49                               곡수가 두 곡 이상인 가수의 이름은?   \n",
       "\n",
       "                                                query  \n",
       "0   SELECT T1.area_code FROM area_code_state AS T1...  \n",
       "1   SELECT count(*) FROM Highschooler WHERE grade ...  \n",
       "2   SELECT T2.name FROM Likes AS T1 JOIN Highschoo...  \n",
       "3   SELECT Orchestra FROM orchestra WHERE Orchestr...  \n",
       "4   SELECT count(*) FROM Cartoon WHERE Written_by ...  \n",
       "5   SELECT avg(GNP) ,  sum(population) FROM countr...  \n",
       "6   SELECT Model FROM CAR_NAMES GROUP BY Model ORD...  \n",
       "7   SELECT Weekly_Rank FROM TV_series WHERE Episod...  \n",
       "8       SELECT count(DISTINCT dog_id) FROM Treatments  \n",
       "9   SELECT DISTINCT T1.Region FROM country AS T1 J...  \n",
       "10  SELECT T1.Name FROM country AS T1 JOIN country...  \n",
       "11  SELECT count(*) FROM AIRLINES AS T1 JOIN FLIGH...  \n",
       "12             SELECT name ,  grade FROM Highschooler  \n",
       "13  SELECT T2.template_id FROM Ref_template_types ...  \n",
       "14  SELECT manager_name ,  district FROM shop ORDE...  \n",
       "15  SELECT t2.name FROM hiring AS t1 JOIN shop AS ...  \n",
       "16  SELECT Name FROM country ORDER BY Population D...  \n",
       "17  SELECT sum(Population) FROM city WHERE Distric...  \n",
       "18  SELECT count(*) FROM Paragraphs AS T1 JOIN Doc...  \n",
       "19  SELECT count(DISTINCT current_address_id) FROM...  \n",
       "20  SELECT Name FROM conductor WHERE Nationality !...  \n",
       "21  SELECT name ,  country FROM singer WHERE song_...  \n",
       "22      SELECT count(*) FROM pets WHERE weight  >  10  \n",
       "23  SELECT count(DISTINCT department_id) FROM Degr...  \n",
       "24  SELECT document_id FROM Paragraphs WHERE parag...  \n",
       "25  SELECT T2.name FROM Friend AS T1 JOIN Highscho...  \n",
       "26  SELECT COUNT(T2.Language) ,  T1.Name FROM coun...  \n",
       "27  SELECT DISTINCT T1.date_arrived ,  T1.date_dep...  \n",
       "28  SELECT zip_postcode FROM Addresses WHERE city ...  \n",
       "29  SELECT count(*) FROM votes WHERE state  =  'NY...  \n",
       "30  SELECT student_id ,  count(*) FROM Likes GROUP...  \n",
       "31                               SELECT * FROM hiring  \n",
       "32  SELECT T1.Fname FROM student AS T1 JOIN has_pe...  \n",
       "33  SELECT Name FROM singer ORDER BY Net_Worth_Mil...  \n",
       "34  SELECT T2.Language FROM country AS T1 JOIN cou...  \n",
       "35  select sum(population) ,  avg(surfacearea) fro...  \n",
       "36                   SELECT avg(Attendance) FROM SHOW  \n",
       "37  SELECT name FROM employee WHERE Employee_ID NO...  \n",
       "38                  SELECT count(*) FROM Highschooler  \n",
       "39  SELECT ID FROM Highschooler WHERE name  =  \"Kyle\"  \n",
       "40  SELECT T1.City FROM AIRPORTS AS T1 JOIN FLIGHT...  \n",
       "41  SELECT Population ,  LifeExpectancy FROM count...  \n",
       "42  SELECT Record_Company FROM orchestra WHERE Yea...  \n",
       "43  SELECT template_id ,  version_number ,  templa...  \n",
       "44  SELECT T2.name FROM Friend AS T1 JOIN Highscho...  \n",
       "45  SELECT Record_Company FROM orchestra ORDER BY ...  \n",
       "46  SELECT name FROM shop WHERE shop_id NOT IN (SE...  \n",
       "47  SELECT sum(Population) FROM country WHERE Name...  \n",
       "48  SELECT T1.country FROM TV_Channel AS T1 JOIN c...  \n",
       "49  SELECT T1.Name FROM singer AS T1 JOIN song AS ...  "
      ]
     },
     "execution_count": 4,
     "metadata": {},
     "output_type": "execute_result"
    }
   ],
   "source": [
    "spider_dev_path = \"/home/deokhk/research/ZX-seq2seq/data/spider/dev.json\"\n",
    "\n",
    "# korean_q, eng_q pair required \n",
    "korean_path = \"/home/deokhk/research/ZX-seq2seq/spider_kor_50.csv\"\n",
    "import pandas as pd \n",
    "\n",
    "korean_df = pd.read_csv(korean_path, encoding='cp949')\n",
    "korean_df"
   ]
  },
  {
   "cell_type": "code",
   "execution_count": 5,
   "metadata": {},
   "outputs": [],
   "source": [
    "korean_dict = {}\n",
    "for idx, row in korean_df.iterrows():\n",
    "    korean_dict[row[\"original_question\"]] = row[\"translated question\"]"
   ]
  },
  {
   "cell_type": "code",
   "execution_count": 6,
   "metadata": {},
   "outputs": [],
   "source": [
    "# Load spider dev dataset\n",
    "import json\n",
    "with open(spider_dev_path, 'r') as f:\n",
    "    spider_dev = json.load(f)\n",
    "\n",
    "spider_dev_korean = []\n",
    "for example in spider_dev:\n",
    "    original_question = example[\"question\"]\n",
    "    original_question = original_question.replace(\"\\u2018\", \"'\").replace(\"\\u2019\", \"'\").replace(\"\\u201c\", \"'\").replace(\"\\u201d\", \"'\").strip()\n",
    "    if original_question in korean_dict:\n",
    "        translated_question = korean_dict[original_question]\n",
    "        example[\"question\"] = translated_question\n",
    "        example[\"question_toks\"] = translated_question.split(\" \")\n",
    "        spider_dev_korean.append(example)"
   ]
  },
  {
   "cell_type": "code",
   "execution_count": 8,
   "metadata": {},
   "outputs": [
    {
     "data": {
      "text/plain": [
       "49"
      ]
     },
     "execution_count": 8,
     "metadata": {},
     "output_type": "execute_result"
    }
   ],
   "source": [
    "len(spider_dev_korean)"
   ]
  },
  {
   "cell_type": "code",
   "execution_count": 9,
   "metadata": {},
   "outputs": [],
   "source": [
    "korean_json_save_path = \"/home/deokhk/research/ZX-seq2seq/data/korean_spider/dev_korean_49.json\"\n",
    "with open(korean_json_save_path, 'w') as f:\n",
    "    json.dump(spider_dev_korean, f, indent=4, ensure_ascii=False)"
   ]
  },
  {
   "cell_type": "code",
   "execution_count": 4,
   "metadata": {},
   "outputs": [
    {
     "data": {
      "image/png": "[encoded data removed]",
      "text/plain": [
       "<Figure size 1000x600 with 1 Axes>"
      ]
     },
     "metadata": {},
     "output_type": "display_data"
    }
   ],
   "source": [
    "import matplotlib.pyplot as plt\n",
    "\n",
    "# Data for the steps and corresponding values\n",
    "steps = [5250, 6125, 7000, 7875, 8750, 9625, 10500, 11375, 12250, 13125, 14000,\n",
    "         14875, 15750, 16625, 17500, 18375, 19250, 20125, 21000, 21875, 22750,\n",
    "         23625, 24500, 25375, 26250, 27125, 28000, 28875, 29750, 30625, 31500,\n",
    "         32375, 33250, 34125, 35000, 35875, 36750, 37625, 38500, 39375, 40250,\n",
    "         41125, 42000, 42875, 43750]\n",
    "\n",
    "zh_decoder_gen_text2sql = [0.279497099, 0.280464217, 0.296905222, 0.294003868, 0.315280464,\n",
    "                           0.315280464, 0.321083172, 0.3172147, 0.3172147, 0.311411992,\n",
    "                           0.321083172, 0.329787234, 0.3172147, 0.33172147, 0.323017408,\n",
    "                           0.327852998, 0.350096712, 0.34622824, 0.352030948, 0.332688588,\n",
    "                           0.35106383, 0.339458414, 0.32205029, 0.363636364, 0.354932302,\n",
    "                           0.35106383, 0.347195358, 0.347195358, 0.356866538, 0.367504836,\n",
    "                           0.347195358, 0.358800774, 0.361702128, 0.358800774, 0.353965184,\n",
    "                           0.37040619, 0.363636364, 0.348162476, 0.368471954, 0.352998066,\n",
    "                           0.376208897, 0.375241779, 0.364603482, 0.385880077, 0.388781431]\n",
    "\n",
    "zh_encoder_gen_text2sql = [0.448742747, 0.441972921, 0.450676983, 0.450676983, 0.459381044,\n",
    "                           0.463249516, 0.464216634, 0.465183752, 0.465183752, 0.458413926,\n",
    "                           0.477756286, 0.456479691, 0.46131528, 0.46615087, 0.459381044,\n",
    "                           0.460348162, 0.46615087, 0.47098646, 0.468085106, 0.456479691,\n",
    "                           0.456479691, 0.463249516, 0.455512573, 0.449709865, 0.464216634,\n",
    "                           0.455512573, 0.458413926, 0.468085106, 0.456479691, 0.471953578,\n",
    "                           0.463249516, 0.458413926, 0.460348162, 0.471953578, 0.462282398,\n",
    "                           0.472920696, 0.48549323, 0.48065764, 0.483558994, 0.474854932,\n",
    "                           0.473887814, 0.487427466, 0.473887814, 0.481624758, 0.473887814]\n",
    "\n",
    "oracle_zh = [0.591876209, 0.592843327, 0.585106383, 0.586073501, 0.582205029,\n",
    "             0.586073501, 0.589941973, 0.585106383, 0.586073501, 0.578336557,\n",
    "             0.582205029, 0.580270793, 0.584139265, 0.586073501, 0.573500967,\n",
    "             0.590909091, 0.576402321, 0.586073501, 0.583172147, 0.587040619,\n",
    "             0.583172147, 0.583172147, 0.588007737, 0.584139265, 0.562862669,\n",
    "             0.571566731, 0.577369439, 0.580270793, 0.577369439, 0.591876209,\n",
    "             0.583172147, 0.588007737, 0.585106383, 0.588007737, 0.588974855,\n",
    "             0.582205029, 0.591876209, 0.589941973, 0.604448743, 0.588974855,\n",
    "             0.584139265, 0.585106383, 0.587040619, 0.587040619, 0.587040619]\n",
    "\n",
    "eval_mt5_large_19 = [0.252417795, 0.300773694, 0.334622824, 0.382978723, 0.395551257,\n",
    "                     0.412959381, 0.421663443, 0.425531915, 0.426499033, 0.436170213,\n",
    "                     0.451644101, 0.449709865, 0.470019342, 0.452611219, 0.455512573,\n",
    "                     0.468085106, 0.473887814, 0.459381044, 0.463249516, 0.472920696,\n",
    "                     0.476789168, 0.477756286, 0.429400387, 0.441972921, 0.472920696,\n",
    "                     0.462282398, 0.47098646, 0.46131528, 0.489361702, 0.478723404,\n",
    "                     0.486460348, 0.444874275, 0.481624758, 0.469052224, 0.478723404,\n",
    "                     0.473887814, 0.49032882, 0.471953578, 0.463249516, 0.460348162,\n",
    "                     0.5, 0.467117988, 0.502901354, 0.503868472, 0.489361702]\n",
    "\n",
    "# Plotting the data\n",
    "plt.figure(figsize=(10, 6))\n",
    "\n",
    "plt.plot(steps, zh_decoder_gen_text2sql, label='PT with bad-quality question')\n",
    "plt.plot(steps, zh_encoder_gen_text2sql, label='PT with good-quality question (proposed)')\n",
    "plt.plot(steps, oracle_zh, label='PT with oracle')\n",
    "plt.plot(steps, eval_mt5_large_19, label='parallel PT')\n",
    "\n",
    "plt.xlabel('Step')\n",
    "plt.ylabel('EM')\n",
    "plt.title('Cspider EM')\n",
    "plt.legend()\n",
    "plt.grid(True)\n",
    "plt.show()\n"
   ]
  },
  {
   "cell_type": "code",
   "execution_count": 7,
   "metadata": {},
   "outputs": [
    {
     "data": {
      "image/png": "[encoded data removed]",
      "text/plain": [
       "<Figure size 1000x600 with 1 Axes>"
      ]
     },
     "metadata": {},
     "output_type": "display_data"
    }
   ],
   "source": [
    "import matplotlib.pyplot as plt\n",
    "\n",
    "# Data for the steps and corresponding values\n",
    "steps = [5250, 6125, 7000, 7875, 8750, 9625, 10500, 11375, 12250, 13125, 14000,\n",
    "         14875, 15750, 16625, 17500, 18375, 19250, 20125, 21000, 21875, 22750,\n",
    "         23625, 24500, 25375, 26250, 27125, 28000, 28875, 29750, 30625, 31500,\n",
    "         32375, 33250, 34125, 35000, 35875, 36750, 37625, 38500, 39375, 40250,\n",
    "         41125, 42000, 42875, 43750]\n",
    "\n",
    "zh_decoder_gen_text2sql = [0.471953578, 0.488394584, 0.513539652, 0.515473888, 0.531914894,\n",
    "                           0.529980658, 0.544487427, 0.555125725, 0.570599613, 0.575435203,\n",
    "                           0.578336557, 0.578336557, 0.578336557, 0.593810445, 0.582205029,\n",
    "                           0.593810445, 0.593810445, 0.600580271, 0.610251451, 0.595744681,\n",
    "                           0.616054159, 0.609284333, 0.604448743, 0.620889749, 0.62959381,\n",
    "                           0.640232108, 0.618955513, 0.618955513, 0.619922631, 0.625725338,\n",
    "                           0.609284333, 0.622823985, 0.624758221, 0.642166344, 0.623791103,\n",
    "                           0.628626692, 0.625725338, 0.618955513, 0.630560928, 0.638297872,\n",
    "                           0.632495164, 0.641199226, 0.635396518, 0.642166344, 0.628626692]\n",
    "\n",
    "zh_encoder_gen_text2sql = [0.637330754, 0.651837524, 0.655705996, 0.669245648, 0.65377176,\n",
    "                           0.64893617, 0.667311412, 0.672147002, 0.656673114, 0.667311412,\n",
    "                           0.666344294, 0.665377176, 0.665377176, 0.66827853, 0.681818182,\n",
    "                           0.661508704, 0.676982592, 0.681818182, 0.67311412, 0.651837524,\n",
    "                           0.666344294, 0.670212766, 0.662475822, 0.6827853, 0.666344294,\n",
    "                           0.675048356, 0.679883946, 0.691489362, 0.699226306, 0.685686654,\n",
    "                           0.696324952, 0.689555126, 0.689555126, 0.680851064, 0.699226306,\n",
    "                           0.693423598, 0.695357834, 0.695357834, 0.695357834, 0.683752418,\n",
    "                           0.678916828, 0.674081238, 0.695357834, 0.686653772, 0.696324952]\n",
    "\n",
    "oracle_zh = [0.69729207, 0.699226306, 0.703094778, 0.709864603, 0.703094778,\n",
    "             0.705029014, 0.707930368, 0.704061896, 0.704061896, 0.703094778,\n",
    "             0.701160542, 0.69729207, 0.704061896, 0.707930368, 0.68762089,\n",
    "             0.70212766, 0.69729207, 0.685686654, 0.680851064, 0.701160542,\n",
    "             0.698259188, 0.68762089, 0.68762089, 0.698259188, 0.68762089,\n",
    "             0.704061896, 0.704061896, 0.704061896, 0.68762089, 0.705996132,\n",
    "             0.712765957, 0.705996132, 0.712765957, 0.696324952, 0.695357834,\n",
    "             0.701160542, 0.710831721, 0.712765957, 0.704061896, 0.709864603,\n",
    "             0.701160542, 0.710831721, 0.712765957, 0.704061896, 0.701160542]\n",
    "\n",
    "eval_mt5_large_19 = [0.382978723, 0.449709865, 0.520309478, 0.549323017, 0.607350097,\n",
    "                     0.620889749, 0.642166344, 0.633462282, 0.64893617, 0.666344294,\n",
    "                     0.679883946, 0.667311412, 0.684719536, 0.679883946, 0.683752418,\n",
    "                     0.691489362, 0.707930368, 0.698259188, 0.713733075, 0.718568665,\n",
    "                     0.727272727, 0.716634429, 0.696324952, 0.700193424, 0.708897485,\n",
    "                     0.724371373, 0.713733075, 0.707930368, 0.722437137, 0.721470019,\n",
    "                     0.728239845, 0.709864603, 0.721470019, 0.725338491, 0.718568665,\n",
    "                     0.716634429, 0.714700193, 0.717601547, 0.704061896, 0.719535783,\n",
    "                     0.713733075, 0.717601547, 0.720502901, 0.717601547, 0.732108317]\n",
    "\n",
    "# Plotting the data\n",
    "plt.figure(figsize=(10, 6))\n",
    "\n",
    "plt.plot(steps, zh_decoder_gen_text2sql, label='PT with bad-quality question')\n",
    "plt.plot(steps, zh_encoder_gen_text2sql, label='PT with good-quality question (proposed)')\n",
    "plt.plot(steps, oracle_zh, label='PT with oracle')\n",
    "plt.plot(steps, eval_mt5_large_19, label='parallel PT')\n",
    "\n",
    "plt.xlabel('Step')\n",
    "plt.ylabel('EM')\n",
    "plt.title('English spider EM')\n",
    "\n",
    "plt.legend()\n",
    "plt.grid(True)\n",
    "plt.show()\n"
   ]
  },
  {
   "cell_type": "markdown",
   "metadata": {},
   "source": [
    "# Korean translation"
   ]
  },
  {
   "cell_type": "code",
   "execution_count": null,
   "metadata": {},
   "outputs": [],
   "source": [
    "import json \n",
    "import pandas as pd \n",
    "\n",
    "korean_dev_path = \"/home/deokhk/research/ZX-seq2seq/data/spider/dev_translated_to_ko.json\"\n",
    "with open(korean_dev_path, 'r') as f:\n",
    "    korean_dev = json.load(f)\n",
    "\n",
    "# Extract db_id, original_question, question, sql fields and save it into excel file \n",
    "korean_dev_df = pd.DataFrame(korean_dev)\n",
    "korean_dev_df = korean_dev_df[[\"db_id\", \"original_question\", \"question\", \"query\"]]\n",
    "korean_dev_df.to_excel(\"./korean_dev.xlsx\", index=False)\n"
   ]
  },
  {
   "cell_type": "markdown",
   "metadata": {},
   "source": [
    "# Syntheic data, test"
   ]
  },
  {
   "cell_type": "code",
   "execution_count": 1,
   "metadata": {},
   "outputs": [],
   "source": [
    "import json \n",
    "syn_path= \"/home/deokhk/research/ZX-seq2seq/data/synthetic_seq2seq/spider_new-examples-no-question-6-128_seq2seq.json\"\n",
    "with open(syn_path, 'r') as f:\n",
    "    syn_raw = json.load(f)"
   ]
  },
  {
   "cell_type": "code",
   "execution_count": 2,
   "metadata": {},
   "outputs": [],
   "source": [
    "sampled = syn_raw[0:100]\n",
    "save_path = \"/home/deokhk/research/ZX-seq2seq/data/synthetic_seq2seq/syn_seq2seq_sampled.json\"\n",
    "with open(save_path, 'w') as f:\n",
    "    json.dump(sampled, f, indent=4)"
   ]
  },
  {
   "cell_type": "code",
   "execution_count": 2,
   "metadata": {},
   "outputs": [],
   "source": [
    "# Update format \n",
    "import json \n",
    "paths = [\n",
    "    \"/home/deokhk/research/ZX-seq2seq/data/RT_consistency/OneM_enc_except_final_generated_predictions_zh_beam_4_from_spider_new-examples-no-question-6-128_seq2seq.json\",\n",
    "    \"/home/deokhk/research/ZX-seq2seq/data/RT_consistency/OneM_predictions_zh_beam_4_from_spider_new-examples-no-question-6-128_seq2seq.json\",\n",
    "    \"/home/deokhk/research/ZX-seq2seq/data/RT_consistency/OneM_wschema_generated_predictions_zh_beam_4_from_spider_new-examples-no-question-6-128_seq2seq.json\"\n",
    "]\n",
    "\n",
    "for p in paths:\n",
    "    with open(p, 'r') as f:\n",
    "        raw = json.load(f)\n",
    "    for example in raw:\n",
    "        gen_q = example[\"generated_question\"]\n",
    "        ori_q = example[\"original_question\"]\n",
    "        example[\"input_sequence\"] = example[\"input_sequence\"].replace(ori_q, gen_q).strip()\n",
    "    with open(p, 'w') as f:\n",
    "        json.dump(raw, f, indent=4, ensure_ascii=False)"
   ]
  },
  {
   "cell_type": "code",
   "execution_count": 4,
   "metadata": {},
   "outputs": [],
   "source": [
    "import json \n",
    "with open(\"/home/deokhk/research/ZX-seq2seq/data/RT_consistency/OneM_wschema_generated_predictions_zh_beam_4_from_spider_new-examples-no-question-6-128_seq2seq.json\", 'r') as f:\n",
    "    raw = json.load(f)\n",
    "\n",
    "sampled = raw[0:20]\n",
    "with open(\"/home/deokhk/research/ZX-seq2seq/data/RT_consistency/OneM_wschema_generated_predictions_zh_beam_4_from_spider_new-examples-no-question-6-128_seq2seq_sampled.json\", 'w') as f:\n",
    "    json.dump(sampled, f, indent=4, ensure_ascii=False)"
   ]
  },
  {
   "cell_type": "code",
   "execution_count": 3,
   "metadata": {},
   "outputs": [],
   "source": [
    "# Sample \n",
    "\n",
    "sampled = raw[0:200]\n",
    "save_path = \"/home/deokhk/research/ZX-seq2seq/data/RT_consistency/sampled_OneM_wschema_generated_predictions_zh_beam_4.json\"\n",
    "with open(save_path, 'w') as f:\n",
    "    json.dump(sampled, f, indent=4, ensure_ascii=False)"
   ]
  },
  {
   "cell_type": "code",
   "execution_count": 1,
   "metadata": {},
   "outputs": [],
   "source": [
    "import json \n",
    "with open(\"/home/deokhk/research/ZX-seq2seq/data/RT_consistency/OneM_wschema_generated_predictions_zh_beam_4_from_spider_new-examples-no-question-6-128_seq2seq.json\", 'r') as f:\n",
    "    raw = json.load(f)\n",
    "\n",
    "sampled = raw[0:1000]\n",
    "with open(\"/home/deokhk/research/ZX-seq2seq/data/RT_consistency/OneM_wschema_generated_predictions_zh_beam_4_from_spider_new-examples-no-question-6-128_seq2seq_sampled.json\", 'w') as f:\n",
    "    json.dump(sampled, f, indent=4, ensure_ascii=False)"
   ]
  },
  {
   "cell_type": "code",
   "execution_count": null,
   "metadata": {},
   "outputs": [],
   "source": []
  }
 ],
 "metadata": {
  "kernelspec": {
   "display_name": "OTTQA",
   "language": "python",
   "name": "python3"
  },
  "language_info": {
   "codemirror_mode": {
    "name": "ipython",
    "version": 3
   },
   "file_extension": ".py",
   "mimetype": "text/x-python",
   "name": "python",
   "nbconvert_exporter": "python",
   "pygments_lexer": "ipython3",
   "version": "3.8.5"
  },
  "orig_nbformat": 4
 },
 "nbformat": 4,
 "nbformat_minor": 2
}
